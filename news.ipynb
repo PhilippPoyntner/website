{
  "cells": [
    {
      "cell_type": "raw",
      "metadata": {},
      "source": [
        "---\n",
        "title: \"News\"\n",
        "about:\n",
        "  template: jolla\n",
        "---"
      ],
      "id": "97041115"
    },
    {
      "cell_type": "markdown",
      "metadata": {},
      "source": [
        "```{css, echo = FALSE}\n",
        ".justify {\n",
        "  text-align: justify !important\n",
        "}\n",
        "```\n",
        "\n",
        "::: {.justify}\n",
        "- 03/2023: I will visit LIS / LISER in September 2023 as part of the (LIS)^2ER visiting fellowship programme.\n",
        "- 02/2023: \"Quantitative Easing and Wealth Inequality: The Asset Price Channel\" is now online at the <em>Oxford Bulletin of Economics and Statistics</em> <a href=\"https://onlinelibrary.wiley.com/doi/10.1111/obes.12543\"> (Open Access)</a>\n",
        "- 01/2023: \"Quantitative Easing and Wealth Inequality: The Asset Price Channel\" has been accepted at the <em>Oxford Bulletin of Economics and Statistics</em>!\n",
        ":::"
      ],
      "id": "2568d909"
    }
  ],
  "metadata": {
    "kernelspec": {
      "display_name": "Python 3",
      "language": "python",
      "name": "python3"
    }
  },
  "nbformat": 4,
  "nbformat_minor": 5
}