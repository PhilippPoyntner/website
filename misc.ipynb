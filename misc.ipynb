{
  "cells": [
    {
      "cell_type": "raw",
      "metadata": {},
      "source": [
        "---\n",
        "title: \"Miscellaneous\"\n",
        "about:\n",
        "  template: jolla\n",
        "---"
      ],
      "id": "e0e40ad0"
    },
    {
      "cell_type": "markdown",
      "metadata": {},
      "source": [
        "```{css, echo = FALSE}\n",
        ".justify {\n",
        "  text-align: justify !important\n",
        "}\n",
        "```\n",
        "\n",
        "\n",
        "## Consultancy experience:\n",
        "\n",
        "::: {.justify}\n",
        "International Finance Corporation (World Bank): Development of a python code to automate data download\n",
        "\n",
        "European Centre for Social Welfare Policy and Research: Update of the Tax-Benefit Microsimulation Models SORESI & EUROMOD\n",
        "\n",
        "Austrian National Bank (OeNB): Various research projects\n",
        ":::\n",
        "\n",
        "## Referee service:\n",
        "::: {.justify}\n",
        "Empirica, Empirical Economics, Review of World Economics\n",
        ":::\n",
        "## Other:\n",
        "::: {.justify}\n",
        "I made a little <a href=\"https://twitter.com/grillplatzwien\">twitter bot</a> that alerted followers when registration for the highly demanded barbecue spots at Viennas Danube island has opened (hibernated now as the registration service is back to the usual schedule).\n",
        ":::\n",
        "## Disclaimer:\n",
        "::: {.justify}\n",
        "This website is made with <a href=\"https://quarto.org/\">Quarto</a> and hosted on <a href=\"https://github.com/PhilippPoyntner/website\">Github</a>.\n",
        "<body>\n",
        "\n",
        "\n",
        "::: {#result}\n",
        ":::\n",
        "\n",
        "\n",
        "```{=html}\n",
        "<script>\n",
        "      var date = document.lastModified;\n",
        "      date=date.slice(0, -9); \n",
        "      document.getElementById(\"result\").innerHTML = \"The website was last updated on: \" + date;\n",
        "   </script>\n",
        "```\n",
        "\n",
        "</body>\n",
        ":::"
      ],
      "id": "e94e0bf5"
    }
  ],
  "metadata": {
    "kernelspec": {
      "display_name": "Python 3",
      "language": "python",
      "name": "python3"
    }
  },
  "nbformat": 4,
  "nbformat_minor": 5
}